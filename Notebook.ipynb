{
 "cells": [
  {
   "cell_type": "markdown",
   "id": "collect-filter",
   "metadata": {},
   "source": [
    "### Recherche du maximum d'un vecteur sur GPU avec CUDA\n",
    "\n",
    "L'objectif de TP est d'implémenter une recherche de maximum en utilisant un accélarateur de calcul GPU avec la bibliothèque CUDA."
   ]
  },
  {
   "cell_type": "code",
   "execution_count": 19,
   "id": "corresponding-protein",
   "metadata": {},
   "outputs": [
    {
     "name": "stdout",
     "output_type": "stream",
     "text": [
      "Host: romeo17.ro18.urca\n",
      "nvcc: NVIDIA (R) Cuda compiler driver\n",
      "Copyright (c) 2005-2021 NVIDIA Corporation\n",
      "Built on Sun_Aug_15_21:14:11_PDT_2021\n",
      "Cuda compilation tools, release 11.4, V11.4.120\n",
      "Build cuda_11.4.r11.4/compiler.30300941_0\n",
      "make: Nothing to be done for `all'.\n",
      "Done.\n"
     ]
    }
   ],
   "source": [
    "%%bash\n",
    "module purge\n",
    "module load gcc/10.2\n",
    "module load cuda/11.4\n",
    "echo \"Host: $(hostname)\"\n",
    "nvcc -V\n",
    "make\n",
    "echo \"Done.\""
   ]
  },
  {
   "cell_type": "code",
   "execution_count": 21,
   "id": "electoral-joyce",
   "metadata": {},
   "outputs": [
    {
     "name": "stdout",
     "output_type": "stream",
     "text": [
      ":: COMPLEX MODE \n",
      "CUDA kernel launch with 64 blocks of 1024 threads\n",
      "--- Summary ------------------\n",
      "Expected value = -2147450880, h_A[0] = -2147450880\n",
      "Tests = 65536/65536 (0 failures) \n",
      "Success rate = 100.0% \n",
      "------------------------------\n",
      "Time                  : 177.66µs\n",
      "Threads/block         : 1024 \n",
      "Total Memory          : 0.26 MiB \n",
      "Effective bandwidth   : 70.82 GiB/s \n",
      "Effective throughput  : 5.90 GOP/s \n"
     ]
    }
   ],
   "source": [
    "%%bash\n",
    "./maximum 16"
   ]
  },
  {
   "cell_type": "code",
   "execution_count": null,
   "id": "identified-roads",
   "metadata": {},
   "outputs": [],
   "source": []
  }
 ],
 "metadata": {
  "kernelspec": {
   "display_name": "Python 3",
   "language": "python",
   "name": "python3"
  },
  "language_info": {
   "codemirror_mode": {
    "name": "ipython",
    "version": 3
   },
   "file_extension": ".py",
   "mimetype": "text/x-python",
   "name": "python",
   "nbconvert_exporter": "python",
   "pygments_lexer": "ipython3",
   "version": "3.8.6"
  }
 },
 "nbformat": 4,
 "nbformat_minor": 5
}
